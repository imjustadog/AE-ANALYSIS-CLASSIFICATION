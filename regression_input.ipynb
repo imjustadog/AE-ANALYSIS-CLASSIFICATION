{
 "cells": [
  {
   "cell_type": "code",
   "execution_count": 1,
   "metadata": {},
   "outputs": [],
   "source": [
    "import struct\n",
    "import matplotlib.pyplot as plt\n",
    "import numpy as np\n",
    "import os\n",
    "import tensorflow as tf\n",
    "from scipy import signal"
   ]
  },
  {
   "cell_type": "code",
   "execution_count": 2,
   "metadata": {},
   "outputs": [],
   "source": [
    "def draw_file(path):\n",
    "    fr = open(path,'r')\n",
    "    datax = []\n",
    "    datay = []\n",
    "    while True:\n",
    "        line = fr.readline()\n",
    "        if not line:\n",
    "            break\n",
    "        line = line.strip().split()\n",
    "        if len(line) >= 3:\n",
    "            datax.append(float(line[1]))\n",
    "            datay.append(float(line[2]))\n",
    "    fr.close()\n",
    "    plt.plot(datax,datay,'+')"
   ]
  },
  {
   "cell_type": "code",
   "execution_count": 3,
   "metadata": {},
   "outputs": [],
   "source": [
    "def save_file(path, writer):\n",
    "    fr = open(path,'r')\n",
    "    while True:\n",
    "        line = fr.readline()\n",
    "        if not line:\n",
    "            break\n",
    "        line = line.strip().split()\n",
    "        if len(line) >= 3:\n",
    "            datat = []\n",
    "            datac = []\n",
    "            datat.append(float(line[1]))\n",
    "            datac.append(float(line[2]))\n",
    "            example = tf.train.Example(features=tf.train.Features(feature={\n",
    "                'theory': tf.train.Feature(float_list=tf.train.FloatList(value=datat)),\n",
    "                'cross': tf.train.Feature(float_list=tf.train.FloatList(value=datac))                                                  \n",
    "            }))\n",
    "            writer.write(example.SerializeToString())"
   ]
  },
  {
   "cell_type": "code",
   "execution_count": 4,
   "metadata": {},
   "outputs": [],
   "source": [
    "pwd = os.getcwd()\n",
    "readname = \"stft_2\"\n",
    "filepath = pwd + \"/txt_data/\" + readname + \".txt\"\n",
    "#draw_file(filepath)\n",
    "\n",
    "writer = tf.python_io.TFRecordWriter(readname + \".tfrecord\")\n",
    "save_file(filepath, writer)\n",
    "\n",
    "writer.close()"
   ]
  }
 ],
 "metadata": {
  "kernelspec": {
   "display_name": "Python 3",
   "language": "python",
   "name": "python3"
  },
  "language_info": {
   "codemirror_mode": {
    "name": "ipython",
    "version": 3
   },
   "file_extension": ".py",
   "mimetype": "text/x-python",
   "name": "python",
   "nbconvert_exporter": "python",
   "pygments_lexer": "ipython3",
   "version": "3.5.2"
  }
 },
 "nbformat": 4,
 "nbformat_minor": 1
}
