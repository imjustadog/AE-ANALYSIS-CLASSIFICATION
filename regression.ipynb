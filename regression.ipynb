{
 "cells": [
  {
   "cell_type": "code",
   "execution_count": 1,
   "metadata": {},
   "outputs": [
    {
     "name": "stdout",
     "output_type": "stream",
     "text": [
      "Populating the interactive namespace from numpy and matplotlib\n",
      "WARNING:tensorflow:From /usr/local/lib/python3.5/dist-packages/tensorflow/python/training/input.py:187: QueueRunner.__init__ (from tensorflow.python.training.queue_runner_impl) is deprecated and will be removed in a future version.\n",
      "Instructions for updating:\n",
      "To construct input pipelines, use the `tf.data` module.\n",
      "WARNING:tensorflow:From /usr/local/lib/python3.5/dist-packages/tensorflow/python/training/input.py:187: add_queue_runner (from tensorflow.python.training.queue_runner_impl) is deprecated and will be removed in a future version.\n",
      "Instructions for updating:\n",
      "To construct input pipelines, use the `tf.data` module.\n",
      "WARNING:tensorflow:From <ipython-input-1-2852c4321d42>:42: start_queue_runners (from tensorflow.python.training.queue_runner_impl) is deprecated and will be removed in a future version.\n",
      "Instructions for updating:\n",
      "To construct input pipelines, use the `tf.data` module.\n",
      "[0.3963168] [0.00575532] 0.02594387\n"
     ]
    }
   ],
   "source": [
    "from __future__ import division, print_function, absolute_import\n",
    "\n",
    "import tensorflow as tf\n",
    "import numpy as np\n",
    "import matplotlib.pyplot as plt\n",
    "import glob\n",
    "import numpy as np\n",
    "import os\n",
    "\n",
    "%pylab inline\n",
    "\n",
    "pwd = os.getcwd()\n",
    "tfrecord_file_path = pwd + \"/stft_2.tfrecord\"\n",
    "filename_queue = tf.train.string_input_producer(\n",
    "                              tf.train.match_filenames_once(tfrecord_file_path),\n",
    "                              shuffle=True, num_epochs=None)\n",
    "\n",
    "reader = tf.TFRecordReader()\n",
    "_, serialized_example = reader.read(filename_queue)\n",
    "\n",
    "features = tf.parse_single_example(serialized_example,\n",
    "                                   features = {\n",
    "                                       'theory': tf.FixedLenFeature([1], tf.float32),\n",
    "                                       'cross': tf.FixedLenFeature([1], tf.float32)\n",
    "                                   }  \n",
    "                                  )  \n",
    "\n",
    "y_data = tf.train.shuffle_batch([features['cross']],batch_size=530,capacity=530,min_after_dequeue=100,num_threads=1)\n",
    "x_data = tf.train.shuffle_batch([features['theory']],batch_size=530,capacity=530,min_after_dequeue=100,num_threads=1)\n",
    "\n",
    "W = tf.Variable(tf.random_uniform([1], -1.0, 1.0))\n",
    "b = tf.Variable(tf.zeros([1]))\n",
    "y = W * x_data + b\n",
    " \n",
    "loss = tf.reduce_mean(tf.square(y - y_data))\n",
    "optimizer = tf.train.GradientDescentOptimizer(0.01).minimize(loss)\n",
    "\n",
    "with tf.Session() as sess:\n",
    "    tf.local_variables_initializer().run()\n",
    "    tf.global_variables_initializer().run()\n",
    "    coord = tf.train.Coordinator()\n",
    "    thread = tf.train.start_queue_runners(sess=sess,coord=coord)\n",
    "    \n",
    "    for i in range(100):\n",
    "        ratio,bias,_,l = sess.run([W,b,optimizer,loss])\n",
    "    print(ratio,bias,l)\n",
    "    \n",
    "    coord.request_stop()\n",
    "    coord.join(thread)"
   ]
  },
  {
   "cell_type": "markdown",
   "metadata": {},
   "source": [
    "[0.7249909] [0.00085748] 0.04375537"
   ]
  },
  {
   "cell_type": "code",
   "execution_count": 2,
   "metadata": {},
   "outputs": [
    {
     "data": {
      "text/plain": [
       "[<matplotlib.lines.Line2D at 0x7f384ce2fda0>]"
      ]
     },
     "execution_count": 2,
     "metadata": {},
     "output_type": "execute_result"
    },
    {
     "data": {
      "image/png": "[encoded data removed]",
      "text/plain": [
       "<Figure size 432x288 with 1 Axes>"
      ]
     },
     "metadata": {},
     "output_type": "display_data"
    }
   ],
   "source": [
    "pwd = os.getcwd()\n",
    "readname = \"stft_2\"\n",
    "filepath = pwd + \"/txt_data/\" + readname + \".txt\"\n",
    "fr = open(filepath,'r')\n",
    "datax = []\n",
    "datay = []\n",
    "while True:\n",
    "    line = fr.readline()\n",
    "    if not line:\n",
    "        break\n",
    "    line = line.strip().split()\n",
    "    if len(line) >= 3:\n",
    "        datax.append(float(line[1]))\n",
    "        datay.append(float(line[2]))\n",
    "fr.close()\n",
    "plt.plot(datax,datay,'+')\n",
    "datax = np.array(datax)\n",
    "y = datax * ratio + bias \n",
    "plt.plot(datax, y, '-')"
   ]
  }
 ],
 "metadata": {
  "kernelspec": {
   "display_name": "Python 3",
   "language": "python",
   "name": "python3"
  },
  "language_info": {
   "codemirror_mode": {
    "name": "ipython",
    "version": 3
   },
   "file_extension": ".py",
   "mimetype": "text/x-python",
   "name": "python",
   "nbconvert_exporter": "python",
   "pygments_lexer": "ipython3",
   "version": "3.5.2"
  }
 },
 "nbformat": 4,
 "nbformat_minor": 1
}
