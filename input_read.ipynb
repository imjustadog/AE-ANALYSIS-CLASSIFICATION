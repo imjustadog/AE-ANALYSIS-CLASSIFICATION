{
 "cells": [
  {
   "cell_type": "code",
   "execution_count": 1,
   "metadata": {},
   "outputs": [],
   "source": [
    "import struct\n",
    "import matplotlib.pyplot as plt\n",
    "import numpy as np\n",
    "import os\n",
    "import tensorflow as tf\n",
    "from scipy import signal"
   ]
  },
  {
   "cell_type": "code",
   "execution_count": 2,
   "metadata": {},
   "outputs": [],
   "source": [
    "def get_file(writer, path):\n",
    "    filelisttemp = os.listdir(path)\n",
    "    for filename in filelisttemp:\n",
    "        if os.path.isdir(path + '//' + filename):\n",
    "            get_file(writer, path + \"//\" + filename)\n",
    "        else:\n",
    "            save_file(writer, path + \"//\" + filename)"
   ]
  },
  {
   "cell_type": "code",
   "execution_count": 3,
   "metadata": {},
   "outputs": [],
   "source": [
    "def save_file(writer, path):\n",
    "    fb = open(path,'rb')\n",
    "    x = 0\n",
    "    datax = []\n",
    "    datay1 = []\n",
    "    datay2 = []\n",
    "    while True:\n",
    "        data = fb.read(4)\n",
    "        if not data:\n",
    "            break\n",
    "        ch1, ch2 = struct.unpack('<HH', data)\n",
    "        ch1 = (float(ch1) - 8192) / 8192 * 2.5\n",
    "        ch2 = (float(ch2) - 8192) / 8192 * 2.5\n",
    "        ch1 = float(ch1)\n",
    "        ch2 = float(ch2)\n",
    "        x = x + 1\n",
    "        datax.append(x * 0.0000001)\n",
    "        datay1.append(ch1)\n",
    "        datay2.append(ch2)\n",
    "        \n",
    "    datay1 = datay1[200000:700000]\n",
    "    datay2 = datay2[200000:700000]\n",
    "    count = len(datay1)\n",
    "\n",
    "    fftnum = 8192\n",
    "    std = 1500\n",
    "    fftrepeat = 0\n",
    "\n",
    "    axis_xf = range(int(fftnum/2))\n",
    "    freq = [i * 10000000.0 / fftnum for i in axis_xf]\n",
    "\n",
    "    index = 0\n",
    "    magnitude1 = []\n",
    "    magnitude2 = []\n",
    "    while True:\n",
    "        data1 = np.array(datay1[index:index + fftnum])\n",
    "        data2 = np.array(datay2[index:index + fftnum])\n",
    "        win = signal.gaussian(fftnum, std)\n",
    "        data1 = np.multiply(data1,win)\n",
    "        data2 = np.multiply(data2,win)\n",
    "        data1 = np.abs(np.fft.fft(data1, fftnum)) / (fftnum / 2)\n",
    "        data2 = np.abs(np.fft.fft(data2, fftnum)) / (fftnum / 2)\n",
    "        magnitude1.append(data1)\n",
    "        magnitude2.append(data2)\n",
    "        index += int(fftnum * (1 - fftrepeat))\n",
    "        if index + fftnum > count:\n",
    "            break\n",
    "\n",
    "    mag1 = sum(np.array(magnitude1)) / len(magnitude1)\n",
    "    mag2 = sum(np.array(magnitude2)) / len(magnitude2)\n",
    "    start = int(fftnum / 500)\n",
    "    end = int(fftnum / 25)\n",
    "    mag1 = mag1[start:end]\n",
    "    maxmag1 = max(mag1)\n",
    "    mag1 = mag1 / maxmag1\n",
    "    mag2 = mag2[start:end]\n",
    "    maxmag2 = max(mag2)\n",
    "    mag2 = mag2 / maxmag2\n",
    "    \n",
    "    example = tf.train.Example(features=tf.train.Features(feature={'data': tf.train.Feature(float_list=tf.train.FloatList(value=mag1))}))\n",
    "    writer.write(example.SerializeToString())\n",
    "    example = tf.train.Example(features=tf.train.Features(feature={'data': tf.train.Feature(float_list=tf.train.FloatList(value=mag2))}))\n",
    "    writer.write(example.SerializeToString())"
   ]
  },
  {
   "cell_type": "code",
   "execution_count": 4,
   "metadata": {},
   "outputs": [],
   "source": [
    "pwd = os.getcwd()\n",
    "recordname = \"soft\"\n",
    "writer = tf.python_io.TFRecordWriter(recordname + \".tfrecord\")\n",
    "get_file(writer, pwd + \"//\" + recordname)\n",
    "writer.close()"
   ]
  }
 ],
 "metadata": {
  "kernelspec": {
   "display_name": "Python 3",
   "language": "python",
   "name": "python3"
  },
  "language_info": {
   "codemirror_mode": {
    "name": "ipython",
    "version": 3
   },
   "file_extension": ".py",
   "mimetype": "text/x-python",
   "name": "python",
   "nbconvert_exporter": "python",
   "pygments_lexer": "ipython3",
   "version": "3.5.2"
  }
 },
 "nbformat": 4,
 "nbformat_minor": 1
}
