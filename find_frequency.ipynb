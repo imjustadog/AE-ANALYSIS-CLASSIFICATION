{
 "cells": [
  {
   "cell_type": "code",
   "execution_count": 1,
   "metadata": {},
   "outputs": [
    {
     "name": "stdout",
     "output_type": "stream",
     "text": [
      "Populating the interactive namespace from numpy and matplotlib\n"
     ]
    },
    {
     "name": "stderr",
     "output_type": "stream",
     "text": [
      "/usr/local/lib/python3.5/dist-packages/IPython/core/magics/pylab.py:160: UserWarning: pylab import has clobbered these variables: ['pi']\n",
      "`%matplotlib` prevents importing * from pylab and numpy\n",
      "  \"\\n`%matplotlib` prevents importing * from pylab and numpy\"\n"
     ]
    },
    {
     "data": {
      "text/plain": [
       "<Figure size 360x360 with 0 Axes>"
      ]
     },
     "metadata": {},
     "output_type": "display_data"
    }
   ],
   "source": [
    "import struct\n",
    "import matplotlib.pyplot as plt\n",
    "import numpy as np\n",
    "import os\n",
    "from scipy import signal\n",
    "from math import pi\n",
    "\n",
    "import pywt\n",
    "import struct\n",
    "\n",
    "%pylab inline\n",
    "\n",
    "plt.rc('font',family='Times New Roman',size=10)\n",
    "markers_freq = ['.','o','v','1','2','3','4','^','<','>','s','p','*','h','H','+','x','D','d','|','_',','] \n",
    "fig = plt.figure(figsize=(5,5))\n",
    "\n",
    "sgn = 1.0\n",
    "interval = 5\n",
    "dt = 0.0000001 * interval\n",
    "fs = 10000000 / interval\n",
    "start = 250000\n",
    "end = 350000\n",
    "\n",
    "result = []\n",
    "pwd = os.getcwd()\n",
    "\n",
    "fa = np.arange(20000, 400000 + 1, 10000)"
   ]
  },
  {
   "cell_type": "code",
   "execution_count": 2,
   "metadata": {},
   "outputs": [
    {
     "name": "stderr",
     "output_type": "stream",
     "text": [
      "/usr/local/lib/python3.5/dist-packages/scipy/signal/signaltools.py:491: FutureWarning: Using a non-tuple sequence for multidimensional indexing is deprecated; use `arr[tuple(seq)]` instead of `arr[seq]`. In the future this will be interpreted as an array index, `arr[np.array(seq)]`, which will result either in an error or a different result.\n",
      "  return x[reverse].conj()\n"
     ]
    },
    {
     "name": "stdout",
     "output_type": "stream",
     "text": [
      "/home/adoge/AE-location//input_data//train//90//0\n",
      "/home/adoge/AE-location//input_data//train//90//1\n",
      "/home/adoge/AE-location//input_data//train//90//2\n",
      "/home/adoge/AE-location//input_data//train//90//3\n",
      "/home/adoge/AE-location//input_data//train//90//4\n",
      "/home/adoge/AE-location//input_data//train//90//5\n",
      "/home/adoge/AE-location//input_data//train//90//6\n",
      "/home/adoge/AE-location//input_data//train//90//7\n",
      "/home/adoge/AE-location//input_data//train//90//8\n",
      "/home/adoge/AE-location//input_data//train//90//9\n",
      "/home/adoge/AE-location//input_data//train//90//10\n",
      "/home/adoge/AE-location//input_data//train//100//0\n",
      "/home/adoge/AE-location//input_data//train//100//1\n",
      "/home/adoge/AE-location//input_data//train//100//2\n",
      "/home/adoge/AE-location//input_data//train//100//3\n",
      "/home/adoge/AE-location//input_data//train//100//4\n",
      "/home/adoge/AE-location//input_data//train//100//5\n",
      "/home/adoge/AE-location//input_data//train//100//6\n",
      "/home/adoge/AE-location//input_data//train//100//7\n",
      "/home/adoge/AE-location//input_data//train//100//8\n",
      "/home/adoge/AE-location//input_data//train//100//9\n",
      "/home/adoge/AE-location//input_data//train//100//10\n"
     ]
    }
   ],
   "source": [
    "dict_fitting = {}\n",
    "for f in fa:\n",
    "    dict_fitting[f] = []\n",
    "    dict_fitting[f].append([])\n",
    "    dict_fitting[f].append([])\n",
    "    dict_fitting[f].append([0])\n",
    "\n",
    "for dd in np.arange(90,101,10):\n",
    "    count = 0\n",
    "    record = []\n",
    "    while True:\n",
    "        filepath = pwd + \"//\" + \"input_data\" + \"//\" + \"train\" + \"//\" + str(dd) + \"//\" + str(count)\n",
    "\n",
    "        if os.path.isfile(filepath) == False:\n",
    "            break\n",
    "        \n",
    "        with open(filepath, \"rb\") as fb:\n",
    "            data = fb.read()\n",
    "\n",
    "        ch1ch2 = struct.unpack(\"<\"+str(int(len(data)/2))+\"H\", data)\n",
    "        ch1ch2 = np.array(ch1ch2)\n",
    "        ch1ch2 = (ch1ch2-8192)*2.5/8192\n",
    "\n",
    "        datay1 = ch1ch2[::2]\n",
    "        datay2 = ch1ch2[1::2]\n",
    "        \n",
    "        data1 = datay1[start:end:interval]\n",
    "        data2 = datay2[start:end:interval]\n",
    "\n",
    "        wavelet = 'morl'\n",
    "        c = pywt.central_frequency(wavelet)\n",
    "        scales = np.array(float(c)) * fs / np.array(fa)\n",
    "\n",
    "        [cfs1,frequencies1] = pywt.cwt(data1,scales,wavelet,dt)\n",
    "        [cfs2,frequencies2] = pywt.cwt(data2,scales,wavelet,dt)\n",
    "        power1 = (abs(cfs1)) ** 2\n",
    "        power2 = (abs(cfs2)) ** 2\n",
    "        \n",
    "        flag = 0\n",
    "        for i,f in enumerate(fa):\n",
    "            mean1 = power1[i].mean()\n",
    "            power1[i] = power1[i] / mean1\n",
    "            mean2 =  power2[i].mean()\n",
    "            power2[i] = power2[i] / mean2\n",
    "            temp = signal.correlate(power1[i],power2[i], mode='same',method='fft')\n",
    "            corr = (np.where(temp == max(temp))[0][0]-len(temp) / 2 ) * dt * 1000\n",
    "            if dd != 100 and corr == 0:\n",
    "                dict_fitting[f][2] = 1\n",
    "            dict_fitting[f][0].append(dd)\n",
    "            dict_fitting[f][1].append(corr)\n",
    "\n",
    "        print(filepath)\n",
    "\n",
    "        count = count + 1\n",
    "        if count > 10:\n",
    "            break"
   ]
  },
  {
   "cell_type": "code",
   "execution_count": 5,
   "metadata": {},
   "outputs": [],
   "source": [
    "result = {}\n",
    "for f in dict_fitting.keys():\n",
    "    x = np.array(dict_fitting[f][0])\n",
    "    y = np.array(dict_fitting[f][1])\n",
    "    func = np.polyfit(x,y,1)\n",
    "    yf = x * func[0] + func[1]\n",
    "    error = np.mean((yf - y) ** 2)\n",
    "    #if error > 0 and dict_fitting[f][2] != 1:\n",
    "    result[f] = error"
   ]
  },
  {
   "cell_type": "code",
   "execution_count": 6,
   "metadata": {},
   "outputs": [
    {
     "data": {
      "text/plain": [
       "(360000, 2.43780991735537e-05)"
      ]
     },
     "execution_count": 6,
     "metadata": {},
     "output_type": "execute_result"
    }
   ],
   "source": [
    "min(result.items(), key=lambda x: x[1])"
   ]
  },
  {
   "cell_type": "code",
   "execution_count": 7,
   "metadata": {},
   "outputs": [
    {
     "data": {
      "text/plain": [
       "{20000: 0.009480311983471072,\n",
       " 30000: 0.0012165413223140494,\n",
       " 40000: 0.004328111570247933,\n",
       " 50000: 0.0064198491735537174,\n",
       " 60000: 0.011832086776859502,\n",
       " 70000: 0.002788892561983471,\n",
       " 80000: 0.007715078512396695,\n",
       " 90000: 0.005639479338842975,\n",
       " 100000: 0.003067117768595041,\n",
       " 110000: 0.003685289256198347,\n",
       " 120000: 0.0019232747933884298,\n",
       " 130000: 7.448966942148759e-05,\n",
       " 140000: 0.00104196694214876,\n",
       " 150000: 0.0021023512396694216,\n",
       " 160000: 0.0013256446280991729,\n",
       " 170000: 0.0035903595041322308,\n",
       " 180000: 0.003989444214876032,\n",
       " 190000: 0.0035736694214876033,\n",
       " 200000: 0.0034017086776859506,\n",
       " 210000: 0.0007567768595041321,\n",
       " 220000: 0.00013407438016528928,\n",
       " 230000: 2.7729338842975205e-05,\n",
       " 240000: 0.0002084462809917355,\n",
       " 250000: 0.00028546074380165283,\n",
       " 260000: 0.0002681776859504133,\n",
       " 270000: 5.494834710743802e-05,\n",
       " 280000: 7.453925619834712e-05,\n",
       " 290000: 0.00010406611570247934,\n",
       " 300000: 4.274173553719007e-05,\n",
       " 310000: 3.933471074380165e-05,\n",
       " 320000: 4.098966942148758e-05,\n",
       " 330000: 3.4004132231404945e-05,\n",
       " 340000: 2.8423553719008252e-05,\n",
       " 350000: 2.7388429752066103e-05,\n",
       " 360000: 2.43780991735537e-05,\n",
       " 370000: 3.089669421487601e-05,\n",
       " 380000: 3.7685950413223114e-05,\n",
       " 390000: 3.434504132231403e-05,\n",
       " 400000: 4.8760330578512366e-05}"
      ]
     },
     "execution_count": 7,
     "metadata": {},
     "output_type": "execute_result"
    }
   ],
   "source": [
    "result"
   ]
  },
  {
   "cell_type": "code",
   "execution_count": null,
   "metadata": {},
   "outputs": [],
   "source": []
  }
 ],
 "metadata": {
  "kernelspec": {
   "display_name": "Python 3",
   "language": "python",
   "name": "python3"
  },
  "language_info": {
   "codemirror_mode": {
    "name": "ipython",
    "version": 3
   },
   "file_extension": ".py",
   "mimetype": "text/x-python",
   "name": "python",
   "nbconvert_exporter": "python",
   "pygments_lexer": "ipython3",
   "version": "3.5.2"
  }
 },
 "nbformat": 4,
 "nbformat_minor": 2
}
