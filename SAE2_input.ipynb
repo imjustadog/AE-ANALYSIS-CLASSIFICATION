{
 "cells": [
  {
   "cell_type": "code",
   "execution_count": 1,
   "metadata": {},
   "outputs": [],
   "source": [
    "import struct\n",
    "import matplotlib.pyplot as plt\n",
    "import numpy as np\n",
    "import os\n",
    "import tensorflow as tf\n",
    "import pywt\n",
    "import six"
   ]
  },
  {
   "cell_type": "code",
   "execution_count": 2,
   "metadata": {},
   "outputs": [],
   "source": [
    "def get_file(path):\n",
    "    global filelist\n",
    "    filelisttemp = os.listdir(path)\n",
    "    for filename in filelisttemp:\n",
    "        if os.path.isdir(path + \"/\" + filename):\n",
    "            get_file(path + \"/\" + filename)\n",
    "        else:\n",
    "            filelist.append(path + \"/\" + filename)"
   ]
  },
  {
   "cell_type": "code",
   "execution_count": 3,
   "metadata": {},
   "outputs": [],
   "source": [
    "def save_file(writer):\n",
    "    interval = 5\n",
    "    dt = 0.0000001 * interval\n",
    "    fs = 10000000 / interval\n",
    "    start = 250000\n",
    "    end = 450000\n",
    "    fig_size = 20\n",
    "\n",
    "    global filelist\n",
    "    for path in filelist:\n",
    "        with open(path, \"rb\") as fb:\n",
    "            data = fb.read()\n",
    "\n",
    "        ch1ch2 = struct.unpack(\"<\"+str(int(len(data)/2))+\"H\", data)\n",
    "        ch1ch2 = np.array(ch1ch2)\n",
    "        ch1ch2 = (ch1ch2-8192)*2.5/8192\n",
    "\n",
    "        datay1 = ch1ch2[::2]\n",
    "        #datay2 = ch1ch2[1::2]\n",
    "        \n",
    "        data1 = datay1[start:end:interval]\n",
    "        #data2 = datay2[start:end:interval]\n",
    "\n",
    "        wavelet = 'morl'\n",
    "        c = pywt.central_frequency(wavelet)\n",
    "        fa = np.arange(400000, 20000 - 1, -20000)\n",
    "        scales = np.array(float(c)) * fs / np.array(fa)\n",
    "\n",
    "        [cfs1,frequencies1] = pywt.cwt(data1,scales,wavelet,dt)\n",
    "        #[cfs2,frequencies2] = pywt.cwt(data2,scales,wavelet,dt)\n",
    "        power1 = abs(cfs1)\n",
    "        #power2 = (abs(cfs2))\n",
    "\n",
    "        length_now = len(power1[0])\n",
    "        power1 = np.reshape(power1,(len(power1),fig_size,int(length_now/fig_size)))\n",
    "        #power2 = np.reshape(power2,(len(power2),fig_size,int(length_now/fig_size)))\n",
    "        power1 = np.log10(np.mean(power1,axis=2))\n",
    "        #power2 = np.log10(np.mean(power2,axis=2))\n",
    "\n",
    "        mx = power1.max()\n",
    "        mn = power1.min()\n",
    "        power1 = (power1-mn) / (mx-mn) * 255.0\n",
    "        power1 = power1.astype(np.uint8)\n",
    "        power1 = power1.tobytes()\n",
    "\n",
    "        #mx = power2.max()\n",
    "        #mn = power2.min()\n",
    "        #power2 = (power2-mn) / (mx-mn) * 255.0\n",
    "        #power2 = power2.astype(np.uint8)\n",
    "        #power2 = power2.tobytes()\n",
    "\n",
    "        example = tf.train.Example(features=tf.train.Features(feature={'data': tf.train.Feature(bytes_list=tf.train.BytesList(value=[power1]))}))\n",
    "        writer.write(example.SerializeToString())\n",
    "        #example = tf.train.Example(features=tf.train.Features(feature={'data': tf.train.Feature(bytes_list=tf.train.BytesList(value=[power2]))}))\n",
    "        #writer.write(example.SerializeToString())"
   ]
  },
  {
   "cell_type": "code",
   "execution_count": 4,
   "metadata": {},
   "outputs": [],
   "source": [
    "filelist = []\n",
    "\n",
    "recordname = \"/home/adoge/AE-location/input_data/sand\"\n",
    "get_file(recordname)\n",
    "filelist = np.array(filelist)\n",
    "np.random.shuffle(filelist)\n",
    "\n",
    "writer = tf.python_io.TFRecordWriter(\"AE_input_sand_ch1_20.tfrecord\")\n",
    "save_file(writer)\n",
    "\n",
    "writer.close()"
   ]
  }
 ],
 "metadata": {
  "kernelspec": {
   "display_name": "Python 3",
   "language": "python",
   "name": "python3"
  },
  "language_info": {
   "codemirror_mode": {
    "name": "ipython",
    "version": 3
   },
   "file_extension": ".py",
   "mimetype": "text/x-python",
   "name": "python",
   "nbconvert_exporter": "python",
   "pygments_lexer": "ipython3",
   "version": "3.5.2"
  }
 },
 "nbformat": 4,
 "nbformat_minor": 1
}
