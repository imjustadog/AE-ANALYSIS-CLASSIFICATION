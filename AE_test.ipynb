{
 "cells": [
  {
   "cell_type": "code",
   "execution_count": 1,
   "metadata": {},
   "outputs": [
    {
     "name": "stdout",
     "output_type": "stream",
     "text": [
      "Populating the interactive namespace from numpy and matplotlib\n"
     ]
    }
   ],
   "source": [
    "from __future__ import division, print_function, absolute_import\n",
    "\n",
    "import tensorflow as tf\n",
    "import numpy as np\n",
    "import matplotlib.pyplot as plt\n",
    "import numpy as np\n",
    "import os\n",
    "import struct\n",
    "from scipy import signal\n",
    "import pywt\n",
    "\n",
    "%pylab inline\n",
    "\n",
    "pwd = os.getcwd()\n",
    "fb = open(pwd + \"//\" + \"input_data\" + \"//\" + \"other\" + \"//\" + \"drop\" + \"//\" + \"15\", \"rb\")\n",
    "x = 0\n",
    "data1 = []\n",
    "data2 = []\n",
    "\n",
    "interval = 5\n",
    "dt = 0.0000001 * interval\n",
    "fs = 10000000 / interval\n",
    "start = int(250000 / interval)\n",
    "end = int(350000 / interval)\n",
    "fig_size = 20\n",
    "\n",
    "while True:\n",
    "    data = fb.read(4)\n",
    "    if not data:\n",
    "        break\n",
    "    if x % interval == 0:\n",
    "        ch1, ch2 = struct.unpack('<HH', data)\n",
    "        ch1 = (float(ch1) - 8192) / 8192 * 2.5\n",
    "        ch2 = (float(ch2) - 8192) / 8192 * 2.5\n",
    "        ch1 = float(ch1)\n",
    "        ch2 = float(ch2)\n",
    "        data1.append(ch1)\n",
    "        data2.append(ch2)\n",
    "    x = x + 1\n",
    "\n",
    "fb.close()\n",
    "\n",
    "data1 = data1[start:end]\n",
    "data2 = data2[start:end]\n",
    "\n",
    "wavelet = 'morl'\n",
    "c = pywt.central_frequency(wavelet)\n",
    "fa = np.arange(400000, 20000 - 1, -20000)\n",
    "scales = np.array(float(c)) * fs / np.array(fa)\n",
    "\n",
    "[cfs1,frequencies1] = pywt.cwt(data1,scales,wavelet,dt)\n",
    "[cfs2,frequencies2] = pywt.cwt(data2,scales,wavelet,dt)\n",
    "power1 = (abs(cfs1)) ** 2\n",
    "power2 = (abs(cfs2)) ** 2\n",
    "\n",
    "length_now = len(power2[0])\n",
    "power1 = np.reshape(power1,(len(power1),fig_size,int(length_now/fig_size)))\n",
    "power2 = np.reshape(power2,(len(power2),fig_size,int(length_now/fig_size)))\n",
    "power1 = np.log10(np.mean(power1,axis=2))\n",
    "power2 = np.log10(np.mean(power2,axis=2))\n",
    "\n",
    "mx = power1.max()\n",
    "mn = power1.min()\n",
    "power1 = (power1-mn) / (mx-mn)\n",
    "power1 = power1.flatten()\n",
    "\n",
    "mx = power2.max()\n",
    "mn = power2.min()\n",
    "power2 = (power2-mn) / (mx-mn)\n",
    "power2 = power2.flatten()"
   ]
  },
  {
   "cell_type": "code",
   "execution_count": 2,
   "metadata": {},
   "outputs": [
    {
     "name": "stdout",
     "output_type": "stream",
     "text": [
      "WARNING:tensorflow:From <ipython-input-2-fd1b2e7d269b>:7: start_queue_runners (from tensorflow.python.training.queue_runner_impl) is deprecated and will be removed in a future version.\n",
      "Instructions for updating:\n",
      "To construct input pipelines, use the `tf.data` module.\n",
      "WARNING:tensorflow:`tf.train.start_queue_runners()` was called when no queue runners were defined. You can safely remove the call to this deprecated function.\n",
      "WARNING:tensorflow:From /usr/local/lib/python3.5/dist-packages/tensorflow/python/training/queue_runner_impl.py:391: QueueRunner.__init__ (from tensorflow.python.training.queue_runner_impl) is deprecated and will be removed in a future version.\n",
      "Instructions for updating:\n",
      "To construct input pipelines, use the `tf.data` module.\n",
      "INFO:tensorflow:Restoring parameters from saver/AE-cos/SAE\n"
     ]
    },
    {
     "data": {
      "image/png": "[encoded data removed]",
      "text/plain": [
       "<Figure size 432x288 with 2 Axes>"
      ]
     },
     "metadata": {},
     "output_type": "display_data"
    },
    {
     "data": {
      "image/png": "[encoded data removed]",
      "text/plain": [
       "<Figure size 432x288 with 2 Axes>"
      ]
     },
     "metadata": {},
     "output_type": "display_data"
    },
    {
     "name": "stdout",
     "output_type": "stream",
     "text": [
      "0.8667150735855103 0.8423314094543457\n"
     ]
    }
   ],
   "source": [
    "with tf.Session() as sess:  \n",
    "    \n",
    "    tf.local_variables_initializer().run()\n",
    "    tf.global_variables_initializer().run()\n",
    "    \n",
    "    coord = tf.train.Coordinator()\n",
    "    thread = tf.train.start_queue_runners(sess=sess,coord=coord)\n",
    "    \n",
    "    saver = tf.train.import_meta_graph('saver/AE-cos/SAE.meta')\n",
    "    saver.restore(sess,'saver/AE-cos/SAE')  \n",
    "    y = tf.get_collection('output_y')[0]\n",
    "    l = tf.get_collection('output_y')[1]\n",
    "    \n",
    "    graph = tf.get_default_graph()\n",
    "    x = graph.get_tensor_by_name(\"input_x:0\")\n",
    "    \n",
    "    outputdata1,loss1 = sess.run([y,l],feed_dict ={x:[power1]})\n",
    "    outputdata2,loss2 = sess.run([y,l],feed_dict ={x:[power2]})\n",
    "    \n",
    "    power1 = np.reshape(power1,(20,20))\n",
    "    power2 = np.reshape(power2,(20,20))\n",
    "    outputdata1 = np.reshape(outputdata1,(20,20))\n",
    "    outputdata2 = np.reshape(outputdata2,(20,20))\n",
    "    \n",
    "    \n",
    "    \n",
    "    plt.subplot(1,2,1)\n",
    "    plt.imshow(power1,cmap=plt.get_cmap('rainbow'))\n",
    "    plt.subplot(1,2,2)\n",
    "    plt.imshow(outputdata1,cmap=plt.get_cmap('rainbow'))\n",
    "    plt.show()\n",
    "    \n",
    "    plt.subplot(1,2,1)\n",
    "    plt.imshow(power2,cmap=plt.get_cmap('rainbow'))\n",
    "    plt.subplot(1,2,2)\n",
    "    plt.imshow(outputdata2,cmap=plt.get_cmap('rainbow'))\n",
    "    plt.show()\n",
    "    \n",
    "    similar1 = 1 - loss1 * 10\n",
    "    similar2 = 1 - loss2 * 10\n",
    "    print(similar1,similar2)\n",
    "    \n",
    "    #if loss1 > 2:\n",
    "    #    loss1 = 2\n",
    "    #if loss2 > 2:\n",
    "    #    loss2 = 2\n",
    "    #print(\"%d%%\"%((2-loss1)*50),\"%d%%\"%((2-loss2)*50))\n",
    "    \n",
    "    \n",
    "    coord.request_stop()\n",
    "    coord.join(thread)"
   ]
  }
 ],
 "metadata": {
  "kernelspec": {
   "display_name": "Python 3",
   "language": "python",
   "name": "python3"
  },
  "language_info": {
   "codemirror_mode": {
    "name": "ipython",
    "version": 3
   },
   "file_extension": ".py",
   "mimetype": "text/x-python",
   "name": "python",
   "nbconvert_exporter": "python",
   "pygments_lexer": "ipython3",
   "version": "3.5.2"
  }
 },
 "nbformat": 4,
 "nbformat_minor": 1
}
