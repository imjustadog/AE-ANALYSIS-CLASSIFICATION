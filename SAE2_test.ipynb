{
 "cells": [
  {
   "cell_type": "code",
   "execution_count": 1,
   "metadata": {},
   "outputs": [
    {
     "name": "stdout",
     "output_type": "stream",
     "text": [
      "Populating the interactive namespace from numpy and matplotlib\n"
     ]
    },
    {
     "name": "stderr",
     "output_type": "stream",
     "text": [
      "/usr/local/lib/python3.5/dist-packages/IPython/core/magics/pylab.py:160: UserWarning: pylab import has clobbered these variables: ['sqrt']\n",
      "`%matplotlib` prevents importing * from pylab and numpy\n",
      "  \"\\n`%matplotlib` prevents importing * from pylab and numpy\"\n"
     ]
    }
   ],
   "source": [
    "from __future__ import division, print_function, absolute_import\n",
    "\n",
    "import tensorflow as tf\n",
    "import numpy as np\n",
    "import matplotlib.pyplot as plt\n",
    "import numpy as np\n",
    "import os\n",
    "import struct\n",
    "from scipy import signal\n",
    "import pywt\n",
    "from math import sqrt\n",
    "\n",
    "%pylab inline\n",
    "\n",
    "pwd = os.getcwd()\n",
    "fb = open(pwd + \"//\" + \"input_data\" + \"//\" + \"train1\" + \"//\" + \"100\" + \"//\" + \"20\", \"rb\")\n",
    "x = 0\n",
    "data1 = []\n",
    "data2 = []\n",
    "\n",
    "interval = 5\n",
    "dt = 0.0000001 * interval\n",
    "fs = 10000000 / interval\n",
    "start = int(250000 / interval)\n",
    "end = int(350000 / interval)\n",
    "fig_size = 40\n",
    "\n",
    "while True:\n",
    "    data = fb.read(4)\n",
    "    if not data:\n",
    "        break\n",
    "    if x % interval == 0:\n",
    "        ch1, ch2 = struct.unpack('<HH', data)\n",
    "        ch1 = (float(ch1) - 8192) / 8192 * 2.5\n",
    "        ch2 = (float(ch2) - 8192) / 8192 * 2.5\n",
    "        ch1 = float(ch1)\n",
    "        ch2 = float(ch2)\n",
    "        data1.append(ch1)\n",
    "        data2.append(ch2)\n",
    "    x = x + 1\n",
    "\n",
    "fb.close()\n",
    "\n",
    "data1 = data1[start:end]\n",
    "data2 = data2[start:end]\n",
    "\n",
    "wavelet = 'morl'\n",
    "c = pywt.central_frequency(wavelet)\n",
    "fa = np.arange(400000, 20000 - 1, -20000)\n",
    "scales = np.array(float(c)) * fs / np.array(fa)\n",
    "\n",
    "[cfs1,frequencies1] = pywt.cwt(data1,scales,wavelet,dt)\n",
    "[cfs2,frequencies2] = pywt.cwt(data2,scales,wavelet,dt)\n",
    "power1 = (abs(cfs1)) ** 2\n",
    "power2 = (abs(cfs2)) ** 2\n",
    "\n",
    "length_now = len(power2[0])\n",
    "power1 = np.reshape(power1,(len(power1),fig_size,int(length_now/fig_size)))\n",
    "power2 = np.reshape(power2,(len(power2),fig_size,int(length_now/fig_size)))\n",
    "power1 = np.log10(np.mean(power1,axis=2))\n",
    "power2 = np.log10(np.mean(power2,axis=2))\n",
    "\n",
    "mx = power1.max()\n",
    "mn = power1.min()\n",
    "power1 = (power1-mn) / (mx-mn)\n",
    "power1 = power1.flatten()\n",
    "\n",
    "mx = power2.max()\n",
    "mn = power2.min()\n",
    "power2 = (power2-mn) / (mx-mn)\n",
    "power2 = power2.flatten()"
   ]
  },
  {
   "cell_type": "code",
   "execution_count": 2,
   "metadata": {
    "scrolled": false
   },
   "outputs": [
    {
     "name": "stdout",
     "output_type": "stream",
     "text": [
      "WARNING:tensorflow:From <ipython-input-2-33b33f0c8b5a>:7: start_queue_runners (from tensorflow.python.training.queue_runner_impl) is deprecated and will be removed in a future version.\n",
      "Instructions for updating:\n",
      "To construct input pipelines, use the `tf.data` module.\n",
      "WARNING:tensorflow:`tf.train.start_queue_runners()` was called when no queue runners were defined. You can safely remove the call to this deprecated function.\n",
      "WARNING:tensorflow:From /usr/local/lib/python3.5/dist-packages/tensorflow/python/training/queue_runner_impl.py:391: QueueRunner.__init__ (from tensorflow.python.training.queue_runner_impl) is deprecated and will be removed in a future version.\n",
      "Instructions for updating:\n",
      "To construct input pipelines, use the `tf.data` module.\n",
      "INFO:tensorflow:Restoring parameters from saver/SAE2-256/SAE\n"
     ]
    },
    {
     "data": {
      "image/png": "[encoded data removed]",
      "text/plain": [
       "<Figure size 432x288 with 2 Axes>"
      ]
     },
     "metadata": {},
     "output_type": "display_data"
    },
    {
     "data": {
      "image/png": "[encoded data removed]",
      "text/plain": [
       "<Figure size 432x288 with 1 Axes>"
      ]
     },
     "metadata": {},
     "output_type": "display_data"
    },
    {
     "data": {
      "image/png": "[encoded data removed]",
      "text/plain": [
       "<Figure size 432x288 with 2 Axes>"
      ]
     },
     "metadata": {},
     "output_type": "display_data"
    },
    {
     "data": {
      "image/png": "[encoded data removed]",
      "text/plain": [
       "<Figure size 432x288 with 1 Axes>"
      ]
     },
     "metadata": {},
     "output_type": "display_data"
    },
    {
     "name": "stdout",
     "output_type": "stream",
     "text": [
      "18.511486154741846 25.867534550029113\n"
     ]
    }
   ],
   "source": [
    "with tf.Session() as sess:  \n",
    "    \n",
    "    tf.local_variables_initializer().run()\n",
    "    tf.global_variables_initializer().run()\n",
    "    \n",
    "    coord = tf.train.Coordinator()\n",
    "    thread = tf.train.start_queue_runners(sess=sess,coord=coord)\n",
    "    \n",
    "    saver = tf.train.import_meta_graph('saver/SAE2-256/SAE.meta')\n",
    "    saver.restore(sess,'saver/SAE2-256/SAE')  \n",
    "    h = tf.get_collection('output_y')[0]\n",
    "    y = tf.get_collection('output_y')[1]\n",
    "    #l = tf.get_collection('output_y')[2]\n",
    "    \n",
    "    graph = tf.get_default_graph()\n",
    "    x = graph.get_tensor_by_name(\"input_x:0\")\n",
    "    \n",
    "    hidden1,outputdata1 = sess.run([h,y],feed_dict ={x:[power1]})\n",
    "    hidden2,outputdata2 = sess.run([h,y],feed_dict ={x:[power2]})\n",
    "    \n",
    "    power1 = np.reshape(power1,(20,40))\n",
    "    power2 = np.reshape(power2,(20,40))\n",
    "    outputdata1 = np.reshape(outputdata1,(20,40))\n",
    "    outputdata2 = np.reshape(outputdata2,(20,40))\n",
    "    #hidden1 = np.reshape(hidden1,(8,8))\n",
    "    #hidden2 = np.reshape(hidden2,(8,8))\n",
    "    \n",
    "    \n",
    "    plt.subplot(2,1,1)\n",
    "    plt.imshow(power1,cmap=plt.get_cmap('rainbow'))\n",
    "    plt.axis('off')\n",
    "    plt.subplot(2,1,2)\n",
    "    plt.imshow(outputdata1,cmap=plt.get_cmap('rainbow'))\n",
    "    plt.axis('off')\n",
    "    plt.figure()\n",
    "    plt.imshow(hidden1,cmap=plt.get_cmap('rainbow'))\n",
    "    plt.axis('off')\n",
    "    plt.show()\n",
    "    \n",
    "    plt.subplot(2,1,1)\n",
    "    plt.imshow(power2,cmap=plt.get_cmap('rainbow'))\n",
    "    plt.axis('off')\n",
    "    plt.subplot(2,1,2)\n",
    "    plt.imshow(outputdata2,cmap=plt.get_cmap('rainbow'))\n",
    "    plt.axis('off')\n",
    "    plt.figure()\n",
    "    plt.imshow(hidden2,cmap=plt.get_cmap('rainbow'))\n",
    "    plt.axis('off')\n",
    "    plt.show()\n",
    "    \n",
    "    loss1 = sum((power1 - outputdata1)**2)\n",
    "    loss2 = sum((power2 - outputdata2)**2)\n",
    "    print(loss1,loss2)\n",
    "    \n",
    "#    similar1 = 1 - loss1 * 10\n",
    "#    similar2 = 1 - loss2 * 10\n",
    "#    print(similar1,similar2)\n",
    "    \n",
    "#     power1 = power1.flatten()\n",
    "#     power2 = power2.flatten()\n",
    "#     outputdata1 = outputdata1.flatten()\n",
    "#     outputdata2 = outputdata2.flatten()\n",
    "#     power1_norm = sqrt((power1 ** 2).sum())\n",
    "#     power2_norm = sqrt((power2 ** 2).sum())\n",
    "#     outputdata1_norm = sqrt((outputdata1 ** 2).sum())\n",
    "#     outputdata2_norm = sqrt((outputdata2 ** 2).sum())\n",
    "#     p1o1 = (power1 * outputdata1).sum()\n",
    "#     p2o2 = (power2 * outputdata2).sum()\n",
    "#     cos1 = p1o1 / power1_norm / outputdata1_norm\n",
    "#     cos2 = p2o2 / power2_norm / outputdata2_norm\n",
    "#     print(cos1,cos2)\n",
    "    \n",
    "    #if loss1 > 2:\n",
    "    #    loss1 = 2\n",
    "    #if loss2 > 2:\n",
    "    #    loss2 = 2\n",
    "    #print(\"%d%%\"%((2-loss1)*50),\"%d%%\"%((2-loss2)*50))\n",
    "    \n",
    "    \n",
    "    coord.request_stop()\n",
    "    coord.join(thread)"
   ]
  },
  {
   "cell_type": "code",
   "execution_count": 3,
   "metadata": {},
   "outputs": [
    {
     "name": "stdout",
     "output_type": "stream",
     "text": [
      "[[1.05520524e-01 3.18493135e-02 9.88545477e-01 1.12157622e-02\n",
      "  1.52681739e-11 2.92862952e-02 1.66751929e-02 9.44190204e-01\n",
      "  7.98746467e-01 7.09026814e-01 8.18957575e-03 1.76112503e-01\n",
      "  2.80577107e-03 9.98080134e-01 6.90313652e-02 2.09441613e-02\n",
      "  5.87536469e-02 2.03625932e-01 1.56567886e-01 8.99296811e-06\n",
      "  1.76396109e-02 2.46323310e-02 4.24256958e-02 1.33859139e-04\n",
      "  2.29752734e-02 5.62049216e-08 1.38493747e-01 2.48442605e-01\n",
      "  8.64589334e-01 1.98019063e-03 7.94973791e-01 7.89428502e-03\n",
      "  2.53056791e-02 2.73360550e-01 7.25901034e-03 4.87790182e-02\n",
      "  2.21717596e-01 3.16765308e-01 1.20198820e-02 1.98558301e-01\n",
      "  5.38973272e-01 8.90209138e-01 7.16517270e-02 1.92632135e-02\n",
      "  7.04189911e-02 3.18329578e-04 1.79301739e-01 6.13056198e-02\n",
      "  7.42564440e-01 7.99344182e-02 1.48278058e-01 6.32867813e-02\n",
      "  1.60140044e-04 4.14860360e-02 1.95554197e-02 2.11635605e-02\n",
      "  1.27476111e-01 6.98149097e-06 1.65613443e-01 3.71725895e-02\n",
      "  9.99838829e-01 1.38906583e-01 1.82341132e-02 1.03938371e-01\n",
      "  7.51830041e-02 9.64798871e-03 1.04713276e-01 2.57802606e-01\n",
      "  6.92542419e-02 1.43230438e-01 4.52648895e-03 7.29390159e-02\n",
      "  3.08640420e-01 4.37064283e-03 2.07438930e-07 9.03812885e-01\n",
      "  5.63547648e-02 6.84166372e-01 3.47018613e-07 9.99748290e-01\n",
      "  1.69771835e-02 5.73939830e-02 2.16503829e-01 1.98542476e-01\n",
      "  6.21143170e-02 2.67294440e-02 9.51445509e-06 9.86395359e-01\n",
      "  2.72289336e-01 7.46376589e-02 8.42790663e-01 1.00013256e-01\n",
      "  9.68242705e-01 4.62598473e-01 2.34706774e-01 1.54755667e-01\n",
      "  1.21643588e-01 4.49080579e-02 8.42283262e-05 1.09741502e-01\n",
      "  1.07194297e-02 2.28929877e-01 2.08152435e-03 1.33277867e-02\n",
      "  2.57245507e-02 1.38500882e-02 3.96391517e-03 1.27751264e-04\n",
      "  4.80826907e-02 1.33173585e-01 5.34056783e-01 4.48070839e-03\n",
      "  9.99949932e-01 1.22853257e-01 2.87744761e-01 4.93592024e-02\n",
      "  1.55173555e-01 1.71765089e-01 1.31498218e-01 1.14599718e-02\n",
      "  1.93921907e-03 9.64767020e-03 7.28280306e-01 5.71172638e-03\n",
      "  1.17341066e-02 5.96589129e-03 3.14202346e-02 5.00083268e-01\n",
      "  8.21034312e-02 1.89867076e-02 2.86922585e-02 2.39549931e-02\n",
      "  3.31566716e-03 4.11643177e-01 3.17432463e-01 9.92781579e-01\n",
      "  8.81705344e-01 5.43966889e-01 4.03336249e-03 8.39166269e-02\n",
      "  8.02327693e-01 7.43771911e-01 7.57064521e-01 3.30043584e-03\n",
      "  7.47469515e-02 1.26795787e-02 3.25424480e-03 8.42513859e-01\n",
      "  9.61596705e-03 1.73518993e-02 6.25844657e-01 1.14538260e-01\n",
      "  1.53555721e-01 2.70312820e-02 2.97589719e-01 1.13032348e-02\n",
      "  2.62758583e-01 9.90527511e-01 6.93548620e-02 2.40871459e-02\n",
      "  3.42629924e-02 1.58000231e-01 8.67279619e-03 2.40157411e-01\n",
      "  6.29189014e-02 3.15583907e-02 8.95777419e-02 5.15161864e-02\n",
      "  1.04115747e-01 1.07918084e-01 1.37009947e-02 7.45264406e-04\n",
      "  6.78836601e-03 2.39078760e-01 4.19064254e-01 1.68547168e-01\n",
      "  2.96339337e-02 5.71600161e-02 8.66172612e-02 5.43385791e-03\n",
      "  1.84736990e-07 3.20970006e-02 1.78567439e-01 5.78052888e-04\n",
      "  1.03534400e-01 9.93920341e-02 6.98139817e-02 3.74561101e-01\n",
      "  3.53848010e-01 2.38062948e-01 2.23442569e-01 9.49807227e-01\n",
      "  2.40214512e-01 3.15669715e-01 9.41930059e-03 3.15990984e-01\n",
      "  6.26720712e-02 2.17285044e-02 2.95564085e-02 5.10728121e-01\n",
      "  2.02695616e-02 3.79492879e-01 8.93607084e-03 1.26465615e-02\n",
      "  9.82582927e-01 1.43061087e-01 6.46141768e-01 2.38732517e-01\n",
      "  4.39154267e-01 4.76911739e-02 2.83398092e-01 6.85553029e-02\n",
      "  1.48194909e-01 4.38605596e-10 5.29334135e-02 1.91342905e-02\n",
      "  1.77817851e-01 1.76439345e-01 1.19168155e-01 5.34504354e-01\n",
      "  9.75261256e-02 3.61433002e-11 2.86053956e-01 6.17857929e-03\n",
      "  1.16945378e-01 2.93540135e-02 1.31984308e-01 9.09883678e-02\n",
      "  1.42177433e-01 1.04771383e-01 4.38908972e-02 2.33899113e-02\n",
      "  3.13002616e-02 1.75611880e-02 1.54792448e-03 5.84523752e-02\n",
      "  3.56685594e-02 7.15036318e-02 1.23212589e-02 1.30622968e-01\n",
      "  2.72540916e-02 1.49546698e-01 5.08947313e-01 1.47981653e-02\n",
      "  2.54400969e-02 7.88092196e-01 1.54688373e-01 8.92545504e-05\n",
      "  7.27454796e-02 3.93893868e-01 9.54293311e-02 4.53195609e-02\n",
      "  8.89555737e-02 2.89485250e-02 2.21447069e-02 2.40575999e-01]]\n"
     ]
    }
   ],
   "source": [
    "print(hidden1)"
   ]
  }
 ],
 "metadata": {
  "kernelspec": {
   "display_name": "Python 3",
   "language": "python",
   "name": "python3"
  },
  "language_info": {
   "codemirror_mode": {
    "name": "ipython",
    "version": 3
   },
   "file_extension": ".py",
   "mimetype": "text/x-python",
   "name": "python",
   "nbconvert_exporter": "python",
   "pygments_lexer": "ipython3",
   "version": "3.5.2"
  }
 },
 "nbformat": 4,
 "nbformat_minor": 1
}
